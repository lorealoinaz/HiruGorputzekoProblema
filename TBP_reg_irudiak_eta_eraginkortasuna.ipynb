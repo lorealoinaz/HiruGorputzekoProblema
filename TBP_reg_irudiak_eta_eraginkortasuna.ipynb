{
 "cells": [
  {
   "cell_type": "markdown",
   "metadata": {},
   "source": [
    "# Gordetako soluzioen azterketa eta erdiguneko metodo inplizituaren eraginkortasuna"
   ]
  },
  {
   "cell_type": "markdown",
   "metadata": {},
   "source": [
    "<ul id=\"top\">\n",
    "<li><a href=\"#Pakete-eta-funtzioak-kargatu\"> \n",
    "    Pakete eta funtzioak kargatu</a></li>\n",
    "<li><a href=\"#Gordetako-soluzio-periodikoak-irakurri\">\n",
    "    Gordetako soluzio periodikoak irakurri</a></li>\n",
    "<li><a href=\"#Une-kolinealak-aztertu\">\n",
    "    Une kolinealak aztertu</a></li>\n",
    "<li><a href=\"#Fast-Fourier-Transform\">\n",
    "    Fast Fourier Transform</a></li>\n",
    "<li><a href=\"#Gordetako-soluzio-periodiko-zaharrak-irakurri-(3-fasetan-antolatutako-bilaketa)\">\n",
    "    Gordetako soluzio periodiko zaharrak irakurri (3 fasetan antolatutako bilaketa)</a></li>\n",
    "<li><a href=\"#Erdiguneko-Metodo-Inplizituan-estrapolazioaren-eraginkortasuna-aztertu\">\n",
    "    Erdiguneko Metodo Inplizituan estrapolazioaren eraginkortasuna aztertu</a></li> \n",
    "</ul>  "
   ]
  },
  {
   "cell_type": "markdown",
   "metadata": {},
   "source": [
    "## Pakete eta funtzioak kargatu"
   ]
  },
  {
   "cell_type": "raw",
   "metadata": {},
   "source": [
    "import Pkg; \n",
    "Pkg.add(\"Combinatorics\")\n",
    "Pkg.add(\"BenchmarkTools\")\n",
    "Pkg.add(\"Optim\")\n",
    "Pkg.add(\"Plots\")\n",
    "Pkg.add(\"LinearAlgebra\")\n",
    "Pkg.add(\"CSV\")\n",
    "Pkg.add(\"DataFrames\")\n",
    "Pkg.add(\"ForwardDiff\")\n",
    "Pkg.add(\"FFTW\")"
   ]
  },
  {
   "cell_type": "code",
   "execution_count": null,
   "metadata": {},
   "outputs": [],
   "source": [
    "using LinearAlgebra\n",
    "using Plots \n",
    "using Optim\n",
    "using BenchmarkTools\n",
    "using Combinatorics\n",
    "using CSV\n",
    "using DataFrames\n",
    "using ForwardDiff\n",
    "using FFTW"
   ]
  },
  {
   "cell_type": "code",
   "execution_count": null,
   "metadata": {},
   "outputs": [],
   "source": [
    "include(\"./src/EMI.jl\"); include(\"./src/TBP.jl\"); include(\"./src/utils.jl\"); include(\"./src/Loss.jl\");"
   ]
  },
  {
   "cell_type": "markdown",
   "metadata": {},
   "source": [
    "## Gordetako soluzio periodikoak irakurri"
   ]
  },
  {
   "cell_type": "code",
   "execution_count": null,
   "metadata": {},
   "outputs": [],
   "source": [
    "#filepath = \"./results/older/TBP_automatizatuta.csv\"\n",
    "#filepath = \"./results/older/TBP_automatizatuta_filtered.csv\"\n",
    "#filepath = \"./results/TBP_automatizatuta.csv\"\n",
    "#filepath = \"./results/TBP_automatizatuta_filtered.csv\"\n",
    "filepath = \"./results/TBP_automatizatuta_filtered_filtered.csv\""
   ]
  },
  {
   "cell_type": "code",
   "execution_count": null,
   "metadata": {},
   "outputs": [],
   "source": [
    "z0_list, Zopt_list, n_list, sigma_list = CSVIrakurri(filepath);\n",
    "i = 0;"
   ]
  },
  {
   "cell_type": "code",
   "execution_count": null,
   "metadata": {},
   "outputs": [],
   "source": [
    "i+=1\n",
    "println(\"i = \", i)\n",
    "T = Zopt_list[i][5]\n",
    "n = n_list[i]\n",
    "dtau = T/n\n",
    "F3 = FLoss3(sigma_list[i], n)\n",
    "println(\"h: \", Zopt_list[i][6])\n",
    "println(\"T: \", T)\n",
    "println(\"dtau: \", dtau)\n",
    "println(\"z0: \", z0_list[i])\n",
    "println(\"Zopt: \", Zopt_list[i])\n",
    "println(\"Helburu funtzioa: \", F3(Zopt_list[i]));"
   ]
  },
  {
   "cell_type": "code",
   "execution_count": null,
   "metadata": {},
   "outputs": [],
   "source": [
    "periodoa = 2T\n",
    "println(\"Periodoa: \", periodoa)\n",
    "tt, UU, uu = Irudikatu(Zopt_list[i], 0., periodoa, dtau, Zopt_list[i][6]);\n",
    "#Kodea lortzeko urratsak\n",
    "g_col_list = [g_col(u) for u in uu] \n",
    "code_middle, code_far, ind_kolinear_list = getCode(UU, g_col_list)\n",
    "println(\"Kodea_middle: \", join(code_middle,\"\"))\n",
    "println(\"Kodea_far: \", join(code_far,\"\"))"
   ]
  },
  {
   "cell_type": "markdown",
   "metadata": {},
   "source": [
    "## Une kolinealak aztertu"
   ]
  },
  {
   "cell_type": "code",
   "execution_count": null,
   "metadata": {},
   "outputs": [],
   "source": [
    "j = 0;"
   ]
  },
  {
   "cell_type": "code",
   "execution_count": null,
   "metadata": {},
   "outputs": [],
   "source": [
    "j+=1\n",
    "Irudikatu(Zopt_list[i], 0., tt[ind_kolinear_list[j]], dtau, Zopt_list[i][6]); \n"
   ]
  },
  {
   "cell_type": "markdown",
   "metadata": {},
   "source": [
    "## Fast Fourier Transform"
   ]
  },
  {
   "cell_type": "code",
   "execution_count": null,
   "metadata": {},
   "outputs": [],
   "source": [
    "II = I_fcn.(UU[1:end-1])\n",
    "hII = rfft(II)/length(II)\n",
    "loghII = log10.(abs.(hII))\n",
    "scatter(loghII)"
   ]
  },
  {
   "cell_type": "markdown",
   "metadata": {},
   "source": [
    "### Egoera bat irudikatu eta gordetzeko kodea"
   ]
  },
  {
   "cell_type": "raw",
   "metadata": {},
   "source": [
    "pl = displayPlotTBPState(rel2abs(HasierakoEgoera(z0_list[i])), background_color = \"#0d1b2a\"; markersize = [15])\n",
    "savefig(pl,\"./Figures/periodikoa_posterra_1.png\")"
   ]
  },
  {
   "cell_type": "markdown",
   "metadata": {},
   "source": [
    "### Ibilbidea irudikatu eta gordetzeko kodea"
   ]
  },
  {
   "cell_type": "raw",
   "metadata": {},
   "source": [
    "#color = [\"#f6f0e2\",\"#f6f0e2\", \"#f6f0e2\"]\n",
    "color = [\"#9d6dc2\",\"#52b788\", \"#277da1\"]\n",
    "background = \"#0d1b2a\"\n",
    "linewidth = 4\n",
    "pl = IrudikatuIbilbidea(Zopt_list[i], 0.,2T, dtau, Zopt_list[i][6], color = color,background = background, linewidth = linewidth);\n",
    "display(pl)\n",
    "savefig(pl, \"./Figures/periodikoa_posterra_0.png\")"
   ]
  },
  {
   "cell_type": "raw",
   "metadata": {},
   "source": [
    "pl = Irudikatu(Zopt_list[i], 0.,2T, dtau, Zopt_list[i][6], triangeluak = false)\n",
    "display(pl)\n",
    "savefig(pl, \"./Figures/ZSol_per_$(i).svg\")"
   ]
  },
  {
   "cell_type": "markdown",
   "metadata": {},
   "source": [
    "## Gordetako soluzio periodiko zaharrak irakurri"
   ]
  },
  {
   "cell_type": "code",
   "execution_count": null,
   "metadata": {},
   "outputs": [],
   "source": [
    "filepath = \"./results/older/TBP_periodikoak.csv\"\n",
    "list1, list2, list3, list4 = csvIrakurri(filepath);\n",
    "k = 0;"
   ]
  },
  {
   "cell_type": "code",
   "execution_count": null,
   "metadata": {},
   "outputs": [],
   "source": [
    "k+=1\n",
    "println(\"k = \", k)\n",
    "z0 = list4[k]\n",
    "println(\"z0: \", z0)\n",
    "F2 = FLoss2(list3[k][1], list3[k][2], list3[k][3])\n",
    "println(\"F2: \", F2(list2[k]))\n",
    "println(list3[k][1])"
   ]
  },
  {
   "cell_type": "code",
   "execution_count": null,
   "metadata": {},
   "outputs": [],
   "source": [
    "tt, UU, uu = Irudikatu(list2[k], 0., 2list2[k][5], list2[k][5]/list3[k][2], list3[k][3]);\n",
    "g_col_list = [g_col(u) for u in uu]\n",
    "code_middle, code_far, ind_kolinear_list = getCode(UU, g_col_list)\n",
    "println(\"Kodea_far: \", code_far)\n",
    "println(\"Kodea_middle: \", code_middle)"
   ]
  },
  {
   "cell_type": "markdown",
   "metadata": {},
   "source": [
    "## Erdiguneko Metodo Inplizituan estrapolazioaren eraginkortasuna aztertu"
   ]
  },
  {
   "cell_type": "code",
   "execution_count": null,
   "metadata": {},
   "outputs": [],
   "source": [
    "iterazio_kopurua = 50\n",
    "\n",
    "dtaus = [1/32,1/64, 1/128, 1/256, 1/512]\n",
    "\n",
    "times32 = [Float64[] for i in 1:6]\n",
    "iter32 = [Float64[] for i in 1:6]\n",
    "\n",
    "times64 = [Float64[] for i in 1:6]\n",
    "iter64 = [Float64[] for i in 1:6]\n",
    "\n",
    "times128 = [Float64[] for i in 1:6]\n",
    "iter128 = [Float64[] for i in 1:6]\n",
    "\n",
    "times256 = [Float64[] for i in 1:6]\n",
    "iter256 = [Float64[] for i in 1:6]\n",
    "\n",
    "times512 = [Float64[] for i in 1:6]\n",
    "iter512 = [Float64[] for i in 1:6]\n",
    "\n",
    "times = [times32, times64, times128, times256, times512]\n",
    "iter = [iter32, iter64, iter128, iter256, iter512]\n",
    "\n",
    "extrakop = [0,2,4,6,8,10]\n",
    "\n",
    "for k in 1:iterazio_kopurua\n",
    "    #Ausazko hasierako egoera lortu\n",
    "    z0 = pi*rand(4)\n",
    "    u0 = HasierakoEgoera(z0)\n",
    "    U0 = LCinvFcn(u0)\n",
    "    h = ThreeBodyRelEnergy(u0)\n",
    "\n",
    "    for i in 1:length(dtaus) #delta tau desberdinetarako\n",
    "        for j in 1:6 #estrapolazio kopuru bakoitzeko\n",
    "            if j==1 #estrapolaziorik ez\n",
    "                elapsed_time = @elapsed begin\n",
    "                    _, lag = EMIiter0(U0, 0.,20.,dtaus[i], [h])\n",
    "                end\n",
    "            else #estrapolazioarekin\n",
    "                elapsed_time = @elapsed begin\n",
    "                    _, lag = EMIiter(U0, 0.,20.,dtaus[i],[h], extrakop[j])\n",
    "                end\n",
    "            end\n",
    "            push!(iter[i][j], lag)\n",
    "            push!(times[i][j], elapsed_time)\n",
    "        end\n",
    "    end \n",
    "end\n",
    "\n",
    "#Bistaratu emaitzak\n",
    "for i in 1:5\n",
    "    println(\"_________________________________________\")\n",
    "    println(\"dtau: \", dtaus[i])\n",
    "    println(\"_________________________________________\")\n",
    "    for j in 1:6\n",
    "        println(\"Nabla ordena: \", extrakop[j])\n",
    "        println(\"Iterazio batezbestekoa: \", sum(iter[i][j])/length(iter[i][j]))\n",
    "        println(\"Denbora batezbestekoa: \", sum(times[i][j])/length(times[i][j]))\n",
    "    end\n",
    "end"
   ]
  }
 ],
 "metadata": {
  "@webio": {
   "lastCommId": null,
   "lastKernelId": null
  },
  "kernelspec": {
   "display_name": "Julia 1.11.5",
   "language": "julia",
   "name": "julia-1.11"
  },
  "language_info": {
   "file_extension": ".jl",
   "mimetype": "application/julia",
   "name": "julia",
   "version": "1.11.5"
  }
 },
 "nbformat": 4,
 "nbformat_minor": 4
}
