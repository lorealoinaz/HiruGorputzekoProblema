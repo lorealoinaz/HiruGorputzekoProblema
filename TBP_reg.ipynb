{
 "cells": [
  {
   "cell_type": "markdown",
   "metadata": {},
   "source": [
    "# Hiru gorputzeko problemaren soluzio periodikoen bilaketa, fasez fase"
   ]
  },
  {
   "cell_type": "markdown",
   "metadata": {},
   "source": [
    "<ul id=\"top\">\n",
    "<li><a href=\"#Pakete-eta-funtzioak-kargatu\"> \n",
    "    Pakete eta funtzioak kargatu</a></li>\n",
    "<li><a href=\"#1.-Fasea:-Ausazko-hasierako-egoera-lortu\">\n",
    "    1. Fasea: Ausazko hasierako egoera lortu</a></li>\n",
    "<li><a href=\"#2.-Fasea:-$z$-taulako-$z_3$-eta-$z_4$-osagaiak-optimizatu\">\n",
    "    2. Fasea: $z$ taulako $z_3$ eta $z_4$ osagaiak optimizatu</a></li>\n",
    "<li><a href=\"#3.-Fasea:-$z$-taula-osoa-optimizatu\">\n",
    "    3. Fasea: $z$ taula osoa optimizatu</a></li>\n",
    "<li><a href=\"#4.-Fasea:-soluzio-periodikoaren-periodoa,-$T$-optimizatu-$z$-taularekin-batera\">\n",
    "    4. Fasea: soluzio periodikoaren periodoa, $T$ optimizatu $z$ taularekin batera</a></li>\n",
    "<li><a href=\"#5.-Fasea:-Sistemaren-energia,-$h$,-moldatu-$T$-eta-$z$-taularekin-batera\">\n",
    "    5. Fasea: Sistemaren energia, $h$, moldatu $T$ eta $z$ taularekin batera</a></li>\n",
    "<li><a href=\"#Une-kolinealak-aztertu\">\n",
    "    Une kolinealak aztertu</a></li>\n",
    "<li><a href=\"#Fast-Fourier-Transform\">\n",
    "    Fast Fourier Transform</a></li>\n",
    "<li><a href=\"#Minimo-lokal-batean-al-gaude?\">\n",
    "    Minimo lokal batean al gaude?</a></li>   \n",
    "</ul>  "
   ]
  },
  {
   "cell_type": "markdown",
   "metadata": {},
   "source": [
    "## Pakete eta funtzioak kargatu"
   ]
  },
  {
   "cell_type": "raw",
   "metadata": {},
   "source": [
    "import Pkg; \n",
    "Pkg.add(\"Combinatorics\")\n",
    "Pkg.add(\"BenchmarkTools\")\n",
    "Pkg.add(\"Optim\")\n",
    "Pkg.add(\"Plots\")\n",
    "Pkg.add(\"LinearAlgebra\")\n",
    "Pkg.add(\"CSV\")\n",
    "Pkg.add(\"DataFrames\")"
   ]
  },
  {
   "cell_type": "code",
   "execution_count": null,
   "metadata": {},
   "outputs": [],
   "source": [
    "using LinearAlgebra\n",
    "using Plots \n",
    "using Optim\n",
    "using BenchmarkTools\n",
    "using Combinatorics\n",
    "using CSV\n",
    "using DataFrames\n",
    "using ForwardDiff\n",
    "using FFTW"
   ]
  },
  {
   "cell_type": "code",
   "execution_count": null,
   "metadata": {},
   "outputs": [],
   "source": [
    "include(\"./src/EMI.jl\"); include(\"./src/TBP.jl\"); include(\"./src/utils.jl\"); include(\"./src/Loss.jl\");"
   ]
  },
  {
   "cell_type": "markdown",
   "metadata": {},
   "source": [
    "<a href=\"#top\">Hasierara</a>\n",
    "## 1. Fasea: Ausazko hasierako egoera lortu"
   ]
  },
  {
   "cell_type": "code",
   "execution_count": null,
   "metadata": {},
   "outputs": [],
   "source": [
    "z0 = pi*rand(4)\n",
    "u0 = HasierakoEgoera(z0)\n",
    "U0 = LCinvFcn(u0)\n",
    "h = ThreeBodyRelEnergy(u0)\n",
    "kont = 1\n",
    "while (E_bitarra(U0, rel2abs(u0))>0 || TBP_Bitarra(U0, 1/256, 50., h))\n",
    "    z0 = pi*rand(4)\n",
    "    u0 = HasierakoEgoera(z0)\n",
    "    U0 = LCinvFcn(u0)\n",
    "    kont+=1\n",
    "    println(kont)\n",
    "end"
   ]
  },
  {
   "cell_type": "code",
   "execution_count": null,
   "metadata": {},
   "outputs": [],
   "source": [
    "@time u0 = HasierakoEgoera(z0)\n",
    "U0 = LCinvFcn(u0)\n",
    "println([ThreeBodyHamiltonianLC(U0), -ThreeBodyRelPotential(u0), ThreeBodyRelEnergy(u0)])\n",
    "println([AngularMomentum(rel2abs(u0)),g(U0)])"
   ]
  },
  {
   "cell_type": "markdown",
   "metadata": {},
   "source": [
    "### Parametroak definitu"
   ]
  },
  {
   "cell_type": "code",
   "execution_count": null,
   "metadata": {},
   "outputs": [],
   "source": [
    "tauend = 20.\n",
    "h = ThreeBodyRelEnergy(u0)\n",
    "par = h\n",
    "dtau = 1/256"
   ]
  },
  {
   "cell_type": "markdown",
   "metadata": {},
   "source": [
    "### Erdiguneko metodo inplizituaren soluzioaren irudikapena\n",
    "Erdiguneko metodo inplizitua erabiliz, dtau luzerako urrats bakoitzean problemaren egoera bildu eta grafiko batean erakusten du."
   ]
  },
  {
   "cell_type": "code",
   "execution_count": null,
   "metadata": {},
   "outputs": [],
   "source": [
    "tt, UU, uu = Irudikatu(z0, 0., tauend, dtau, par)\n",
    "IrudikatuIELog(tt, UU,uu)"
   ]
  },
  {
   "cell_type": "markdown",
   "metadata": {},
   "source": [
    "### Energia errore eta errore hamiltondarrak"
   ]
  },
  {
   "cell_type": "code",
   "execution_count": null,
   "metadata": {},
   "outputs": [],
   "source": [
    "yrange = (-20, 0)\n",
    "energia_erroreakTP = [ThreeBodyRelEnergy(u)/h - 1  for u in uu]\n",
    "energia_errore_lokalakTP = energia_erroreakTP[2:end]-energia_erroreakTP[1:end-1]\n",
    "\n",
    "pl1 = plot(tt, log10.(abs.(energia_erroreakTP)), legend = false,  title = \"Energia errorea TwicePrecision\", ylims=yrange)"
   ]
  },
  {
   "cell_type": "code",
   "execution_count": null,
   "metadata": {},
   "outputs": [],
   "source": [
    "yrange = (-15, 0)\n",
    "energia_erroreakTP = [ThreeBodyRelEnergy(u)/h - 1  for u in uu]\n",
    "energia_errore_lokalakTP = energia_erroreakTP[2:end]-energia_erroreakTP[1:end-1]\n",
    "\n",
    "pl1 = plot(tt, log10.(abs.(energia_erroreakTP)), legend = false,  title = \"Energia errorea TwicePrecision\", ylims=yrange)"
   ]
  },
  {
   "cell_type": "code",
   "execution_count": null,
   "metadata": {},
   "outputs": [],
   "source": [
    "IrudikatuErrEH(tt, UU, uu)\n",
    "IrudikatuRet(tt, UU)"
   ]
  },
  {
   "cell_type": "markdown",
   "metadata": {},
   "source": [
    "<a href=\"#top\">Hasierara</a>\n",
    "## 2. Fasea: $z$ taulako $z_3$ eta $z_4$ osagaiak optimizatu"
   ]
  },
  {
   "cell_type": "code",
   "execution_count": null,
   "metadata": {},
   "outputs": [],
   "source": [
    "z = copy(z0)\n",
    "F0 = FLoss0(z,dtau,tauend,h)\n",
    "w0 = [z[3], z[4]]\n",
    "helb_minn,ss = F0(w0,3)\n",
    "@time T, sigma = F0(w0, 2)\n",
    "(helb_minn, T, sigma)"
   ]
  },
  {
   "cell_type": "code",
   "execution_count": null,
   "metadata": {},
   "outputs": [],
   "source": [
    "@time res0 = optimize(F0,w0)"
   ]
  },
  {
   "cell_type": "code",
   "execution_count": null,
   "metadata": {},
   "outputs": [],
   "source": [
    "w1 = Normalizatu_z(res0.minimizer)\n",
    "helb_minn, ss = F0(w1, 3);\n",
    "T, sigma = F0(w1, 2)\n",
    "\n",
    "(helb_minn, T, sigma)"
   ]
  },
  {
   "cell_type": "code",
   "execution_count": null,
   "metadata": {},
   "outputs": [],
   "source": [
    "pl = plot([0:T/F0.dtau], ss[1:Int64(T/F0.dtau)+1], title=\"title\", legend = false)"
   ]
  },
  {
   "cell_type": "code",
   "execution_count": null,
   "metadata": {},
   "outputs": [],
   "source": [
    "z1 = copy(F0.z)\n",
    "z1[3:4] .= w1\n",
    "tt,UU,uu = Irudikatu(z1, 0., T, F0.dtau, F0.h);"
   ]
  },
  {
   "cell_type": "markdown",
   "metadata": {},
   "source": [
    "<a href=\"#top\">Hasierara</a>\n",
    "## 3. Fasea: $z$ taula osoa optimizatu"
   ]
  },
  {
   "cell_type": "code",
   "execution_count": null,
   "metadata": {},
   "outputs": [],
   "source": [
    "F1 = FLoss1(dtau,tauend,h)\n",
    "helb_minn,ss = F1(z1,3)\n",
    "@time T, sigma = F1(z1, 2)\n",
    "(helb_minn, T, sigma)"
   ]
  },
  {
   "cell_type": "code",
   "execution_count": null,
   "metadata": {},
   "outputs": [],
   "source": [
    "@time res1 = optimize(F1,z1)"
   ]
  },
  {
   "cell_type": "code",
   "execution_count": null,
   "metadata": {},
   "outputs": [],
   "source": [
    "z1_opt = Normalizatu_z(res1.minimizer)\n",
    "helb_minn,ss = F1(z1_opt,3)\n",
    "@time T, sigma = F1(z1_opt, 2)\n",
    "(helb_minn, T, sigma)"
   ]
  },
  {
   "cell_type": "code",
   "execution_count": null,
   "metadata": {},
   "outputs": [],
   "source": [
    "tt, UU, uu = Irudikatu(z1_opt, 0., T, F0.dtau, F0.h);"
   ]
  },
  {
   "cell_type": "markdown",
   "metadata": {},
   "source": [
    "<a href=\"#top\">Hasierara</a>\n",
    "## 4. Fasea: soluzio periodikoaren periodoa, $T$ optimizatu $z$ taularekin batera"
   ]
  },
  {
   "cell_type": "code",
   "execution_count": null,
   "metadata": {},
   "outputs": [],
   "source": [
    "Z0 = copy(z1_opt)\n",
    "push!(Z0, T)\n",
    "F2 = FLoss2(sigma,Int64(ceil(Z0[5]/F1.dtau)),F1.h)\n",
    "@time F2(Z0)"
   ]
  },
  {
   "cell_type": "code",
   "execution_count": null,
   "metadata": {},
   "outputs": [],
   "source": [
    "@time res2 = optimize(F2, Z0, g_tol=1e-13, autodiff=:forward, method=BFGS())"
   ]
  },
  {
   "cell_type": "code",
   "execution_count": null,
   "metadata": {},
   "outputs": [],
   "source": [
    "Zopt2 = Normalizatu_z(res2.minimizer)\n",
    "tt, UU,uu = Irudikatu(Zopt2,0.,Zopt2[5], Zopt2[5]/F2.nsteps, F1.h);"
   ]
  },
  {
   "cell_type": "markdown",
   "metadata": {},
   "source": [
    "<a href=\"#top\">Hasierara</a>\n",
    "## 5. Fasea: Sistemaren energia, $h$, moldatu $T$ eta $z$ taularekin batera"
   ]
  },
  {
   "cell_type": "code",
   "execution_count": null,
   "metadata": {},
   "outputs": [],
   "source": [
    "W0= copy(Zopt2)\n",
    "push!(W0, -0.5)\n",
    "#W0= copy(z1_opt)\n",
    "#push!(W0, T)\n",
    "#push!(W0, -0.5)\n",
    "F3 = FLoss3(sigma,Int64(ceil(W0[5]/F1.dtau)))\n",
    "@time F3(W0)"
   ]
  },
  {
   "cell_type": "code",
   "execution_count": null,
   "metadata": {},
   "outputs": [],
   "source": [
    "@time res3 = optimize(F3, W0, g_tol=1e-13, autodiff=:forward, method=BFGS())"
   ]
  },
  {
   "cell_type": "code",
   "execution_count": null,
   "metadata": {},
   "outputs": [],
   "source": [
    "Zopt3 = Normalizatu_z(res3.minimizer)\n",
    "tt, UU, uu = Irudikatu(Zopt3,0.,Zopt3[5], Zopt3[5]/F2.nsteps, Zopt3[6]);\n",
    "g_col_list = [g_col(u) for u in uu]\n",
    "code_middle, code_far, ind_kolinear_list = getCode(UU, g_col_list)\n",
    "println(\"Kodea_far: \", code_far)\n",
    "println(\"Kodea_middle: \", code_middle)"
   ]
  },
  {
   "cell_type": "markdown",
   "metadata": {},
   "source": [
    "<a href=\"#top\">Hasierara</a>\n",
    "## Une kolinealak aztertu"
   ]
  },
  {
   "cell_type": "code",
   "execution_count": null,
   "metadata": {},
   "outputs": [],
   "source": [
    "i = 0;"
   ]
  },
  {
   "cell_type": "code",
   "execution_count": null,
   "metadata": {
    "scrolled": true
   },
   "outputs": [],
   "source": [
    "i+=1\n",
    "Irudikatu(Zopt3,0.,tt[ind_kolinear_list[i]], Zopt3[5]/F2.nsteps, Zopt3[6]); "
   ]
  },
  {
   "cell_type": "markdown",
   "metadata": {},
   "source": [
    "<a href=\"#top\">Hasierara</a>\n",
    "## Fast Fourier Transform"
   ]
  },
  {
   "cell_type": "code",
   "execution_count": null,
   "metadata": {
    "scrolled": true
   },
   "outputs": [],
   "source": [
    "II = I_fcn.(UU[1:end-1])\n",
    "hII = rfft(II)/length(II)\n",
    "loghII = log10.(abs.(hII))\n",
    "scatter(loghII)"
   ]
  },
  {
   "cell_type": "markdown",
   "metadata": {},
   "source": [
    "<a href=\"#top\">Hasierara</a>\n",
    "## Minimo lokal batean al gaude?"
   ]
  },
  {
   "cell_type": "code",
   "execution_count": null,
   "metadata": {},
   "outputs": [],
   "source": [
    "helb = F3(BigFloat.(Zopt3))"
   ]
  },
  {
   "cell_type": "code",
   "execution_count": null,
   "metadata": {},
   "outputs": [],
   "source": [
    "gradF3 = ForwardDiff.gradient(F3,BigFloat.(Zopt3))"
   ]
  },
  {
   "cell_type": "code",
   "execution_count": null,
   "metadata": {},
   "outputs": [],
   "source": [
    "hess = ForwardDiff.hessian(F3,Zopt3)\n",
    "\n",
    "eigen(hess).values"
   ]
  },
  {
   "cell_type": "code",
   "execution_count": null,
   "metadata": {},
   "outputs": [],
   "source": [
    "Z3 = Zopt3 - hess\\gradF3"
   ]
  },
  {
   "cell_type": "code",
   "execution_count": null,
   "metadata": {},
   "outputs": [],
   "source": [
    "Float64.(ForwardDiff.gradient(F3,BigFloat.(Z3)))"
   ]
  },
  {
   "cell_type": "code",
   "execution_count": null,
   "metadata": {},
   "outputs": [],
   "source": [
    "Z3 = Float64.(Z3)"
   ]
  },
  {
   "cell_type": "code",
   "execution_count": null,
   "metadata": {},
   "outputs": [],
   "source": [
    "(Float64.(F3(BigFloat.(Z3))), Float64.(F3(BigFloat.(Zopt3))))"
   ]
  },
  {
   "cell_type": "code",
   "execution_count": null,
   "metadata": {},
   "outputs": [],
   "source": [
    "tt, UU = Irudikatu(Zopt3,0.,Zopt3[5], Zopt3[5]/F3.nsteps, Zopt3[6]);"
   ]
  },
  {
   "cell_type": "code",
   "execution_count": null,
   "metadata": {},
   "outputs": [],
   "source": [
    "IrudikatuIDeribatuak(tt, UU, LCFcn.(UU))"
   ]
  }
 ],
 "metadata": {
  "@webio": {
   "lastCommId": null,
   "lastKernelId": null
  },
  "kernelspec": {
   "display_name": "Julia 1.11.5",
   "language": "julia",
   "name": "julia-1.11"
  },
  "language_info": {
   "file_extension": ".jl",
   "mimetype": "application/julia",
   "name": "julia",
   "version": "1.11.5"
  }
 },
 "nbformat": 4,
 "nbformat_minor": 4
}
