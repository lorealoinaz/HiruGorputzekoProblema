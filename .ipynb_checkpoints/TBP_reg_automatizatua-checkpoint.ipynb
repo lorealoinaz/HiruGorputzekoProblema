{
 "cells": [
  {
   "cell_type": "markdown",
   "metadata": {},
   "source": [
    "## Hiru gorputzeko soluzio periodikoak era sistematikoan aurkitzeko tresna"
   ]
  },
  {
   "cell_type": "markdown",
   "metadata": {},
   "source": [
    "<ul id=\"top\">\n",
    "<li><a href=\"#Pakete-eta-funtzioak-kargatu\"> \n",
    "    Pakete eta funtzioak kargatu</a></li>\n",
    "<li><a href=\"#Soluzio-periodikoen-bilaketa-atuomatizatua\">\n",
    "    Soluzio periodikoen bilaketa atuomatizatua</a></li>\n",
    "<li><a href=\"#Bilaketa-automatizatuaren-emaitzen-garbiketa\">\n",
    "    Bilaketa automatizatuaren emaitzen garbiketa</a></li> \n",
    "</ul>  "
   ]
  },
  {
   "cell_type": "markdown",
   "metadata": {},
   "source": [
    "## Pakete eta funtzioak kargatu"
   ]
  },
  {
   "cell_type": "raw",
   "metadata": {},
   "source": [
    "import Pkg; \n",
    "Pkg.add(\"Combinatorics\")\n",
    "Pkg.add(\"BenchmarkTools\")\n",
    "Pkg.add(\"Optim\")\n",
    "Pkg.add(\"Plots\")\n",
    "Pkg.add(\"LinearAlgebra\")\n",
    "Pkg.add(\"CSV\")\n",
    "Pkg.add(\"DataFrames\")"
   ]
  },
  {
   "cell_type": "code",
   "execution_count": 2,
   "metadata": {},
   "outputs": [],
   "source": [
    "using LinearAlgebra\n",
    "using Plots \n",
    "using Optim\n",
    "using BenchmarkTools\n",
    "using Combinatorics\n",
    "using CSV\n",
    "using DataFrames\n",
    "using ForwardDiff\n",
    "using FFTW"
   ]
  },
  {
   "cell_type": "code",
   "execution_count": 3,
   "metadata": {},
   "outputs": [],
   "source": [
    "include(\"./src/EMI.jl\"); include(\"./src/TBP.jl\"); include(\"./src/utils.jl\"); include(\"./src/Loss.jl\");"
   ]
  },
  {
   "cell_type": "markdown",
   "metadata": {},
   "source": [
    "## Soluzio periodikoen bilaketa atuomatizatua\n",
    "Adierazitako ausazko_kopurua adina ausazko hasierako egoeratik abiatuz, soluzio periodikoak bilatuko ditu eta lortutako emaitzak adierazitako filepath fitxategian gordeko ditu"
   ]
  },
  {
   "cell_type": "raw",
   "metadata": {},
   "source": [
    "ausazko_kopurua = 600\n",
    "filepath = \"./results/TBP_automatizatuta_zuzenduta.csv\"\n",
    "\n",
    "SoluzioPeriodikoakGorde(ausazko_kopurua, filepath)"
   ]
  },
  {
   "cell_type": "markdown",
   "metadata": {},
   "source": [
    "## Bilaketa automatizatuaren emaitzen garbiketa"
   ]
  },
  {
   "cell_type": "markdown",
   "metadata": {},
   "source": [
    "### Garbiketa automatizatua\n",
    "Ondorengo baldintzak betetzen dituzten soluzioak baztertuko ditu:\n",
    "\n",
    "    -  Periodo negatiboa\n",
    "    -  Periodoa [0, 0.1] tartean\n",
    "    -  h ∉ [-0.51,-0.49] \n",
    "    -  Helburu funtzioa > 1e^{-5}\n"
   ]
  },
  {
   "cell_type": "code",
   "execution_count": 4,
   "metadata": {},
   "outputs": [],
   "source": [
    "sol_filepath = \"./results/TBP_automatizatuta.csv\"\n",
    "new_filepath = \"./results/TBP_automatizatuta_filtered_1.csv\"\n",
    "\n",
    "filterSoluzioPeriodikoakGorde(sol_filepath, new_filepath)"
   ]
  },
  {
   "cell_type": "markdown",
   "metadata": {},
   "source": [
    "### Eskuz egindako garbiketa\n",
    "sol_filepath fitxategian gordetako soluzioetatik, i_list listan adierazitako indizea dutenak, new_filepath fitxategian gorde"
   ]
  },
  {
   "cell_type": "code",
   "execution_count": 5,
   "metadata": {},
   "outputs": [],
   "source": [
    "sol_filepath = \"./results/TBP_automatizatuta_filtered_1.csv\"\n",
    "new_filepath = \"./results/TBP_automatizatuta_filtered_filtered_1.csv\"\n",
    "i_list = [1,2,8,9,10,11,12,17,18,26,30,39,41,46,48,51,62,77,93,108,109,113,120,121,132,138,150,166,177,185,194,218,221,222,242,250,287,296,302]\n",
    "\n",
    "filterEskuzSoluzioPeriodikoakGorde(sol_filepath, new_filepath, i_list)"
   ]
  }
 ],
 "metadata": {
  "@webio": {
   "lastCommId": null,
   "lastKernelId": null
  },
  "kernelspec": {
   "display_name": "Julia 1.11.5",
   "language": "julia",
   "name": "julia-1.11"
  },
  "language_info": {
   "file_extension": ".jl",
   "mimetype": "application/julia",
   "name": "julia",
   "version": "1.11.5"
  }
 },
 "nbformat": 4,
 "nbformat_minor": 4
}
