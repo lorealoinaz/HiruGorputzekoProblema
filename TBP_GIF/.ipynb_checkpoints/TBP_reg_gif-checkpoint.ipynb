{
 "cells": [
  {
   "cell_type": "markdown",
   "metadata": {},
   "source": [
    "# Hiru gorputzen soluzio periodikoen gif-ak sortzeko tresna\n",
    "<ul id=\"top\">\n",
    "<li><a href=\"#Pakete-eta-funtzioak-kargatu\"> \n",
    "    Pakete eta funtzioak kargatu</a></li>\n",
    "<li><a href=\"#Gordetako-soluzio-periodikoak-irakurri\">\n",
    "    Gordetako soluzio periodikoak irakurri</a></li>\n",
    "<li><a href=\"#Gordetako-soluzio-periodikoak-bistaratu\">\n",
    "    Gordetako soluzio periodikoak bistaratu</a></li>\n",
    "<li><a href=\"#Uneko-soluzioaren-animazioak-sortu-eta-gorde\">\n",
    "    Uneko soluzioaren animazioak sortu eta gorde</a></li>\n",
    "</ul>  \n",
    "\n",
    "## Paketeak eta funtzioak kargatu"
   ]
  },
  {
   "cell_type": "raw",
   "metadata": {},
   "source": [
    "import Pkg;\n",
    "Pkg.add(\"Plots\");\n",
    "Pkg.add(\"CSV\");\n",
    "Pkg.add(\"DataFrames\");"
   ]
  },
  {
   "cell_type": "code",
   "execution_count": null,
   "metadata": {},
   "outputs": [],
   "source": [
    "using LinearAlgebra\n",
    "using Plots \n",
    "using CSV\n",
    "using DataFrames"
   ]
  },
  {
   "cell_type": "code",
   "execution_count": null,
   "metadata": {},
   "outputs": [],
   "source": [
    "include(\"EMI.jl\"); include(\"TBP.jl\"); include(\"utils.jl\"); "
   ]
  },
  {
   "cell_type": "markdown",
   "metadata": {},
   "source": [
    "## Gordetako soluzio periodikoak irakurri"
   ]
  },
  {
   "cell_type": "code",
   "execution_count": null,
   "metadata": {},
   "outputs": [],
   "source": [
    "filepath = \"./../results/TBP_automatizatuta_filtered_filtered.csv\"\n",
    "z0_list, Zopt_list, n_list, sigma_list = CSVIrakurri(filepath);\n",
    "i = 0;"
   ]
  },
  {
   "cell_type": "markdown",
   "metadata": {},
   "source": [
    "## Gordetako soluzio periodikoak bistaratu"
   ]
  },
  {
   "cell_type": "code",
   "execution_count": null,
   "metadata": {},
   "outputs": [],
   "source": [
    "i+=1\n",
    "println(\"i = \", i)\n",
    "T = Zopt_list[i][5]\n",
    "n = n_list[i]\n",
    "dtau = T/n\n",
    "z0 = Zopt_list[i]\n",
    "h = Zopt_list[i][6];"
   ]
  },
  {
   "cell_type": "code",
   "execution_count": null,
   "metadata": {},
   "outputs": [],
   "source": [
    "periodoa =T\n",
    "println(\"T: \", periodoa)\n",
    "println(\"t: \", UU[end][13])\n",
    "println(\"h: \", h)\n",
    "println(\"Zopt: \", z0[1:4])\n",
    "tt, UU, uu = Irudikatu(z0, 0., periodoa, dtau, h);\n",
    "println(\"t*: \", UU[end][13] * 0.5^(3/2))"
   ]
  },
  {
   "cell_type": "markdown",
   "metadata": {},
   "source": [
    "## Uneko soluzioaren animazioak sortu eta gorde\n",
    "Bi animazio desberdin sortzen ditu funtzio honek:\n",
    "\n",
    "    - Ibilbidea gorputzak mugitu ahala sortzen duena\n",
    "    - Ibilbidea guztiz marraztuta egonik, gorputzen mugimendua haren gainean erakusten duena"
   ]
  },
  {
   "cell_type": "code",
   "execution_count": null,
   "metadata": {},
   "outputs": [],
   "source": [
    "anim1, anim2, fps, skipped_frames = GifErregularizatuGabe(z0, uu, tt, dtau,h, \"#f2f0ed\", [\"#FE5864\",\"#529818\",\"#3E82FC\"]);\n",
    "gif(anim1, \"./output/TBP_$(i)_1.gif\", fps = 4*fps) #Ibilbideen lerroak gorputzak mugitu ahala sortzen dira\n",
    "gif(anim2, \"./output/TBP_$(i)_2.gif\", fps = 4*fps) #Ibilbide marraztuen gainean mugitzen dira gorputzak"
   ]
  }
 ],
 "metadata": {
  "@webio": {
   "lastCommId": null,
   "lastKernelId": null
  },
  "kernelspec": {
   "display_name": "Julia 1.11.5",
   "language": "julia",
   "name": "julia-1.11"
  },
  "language_info": {
   "file_extension": ".jl",
   "mimetype": "application/julia",
   "name": "julia",
   "version": "1.11.5"
  }
 },
 "nbformat": 4,
 "nbformat_minor": 4
}
